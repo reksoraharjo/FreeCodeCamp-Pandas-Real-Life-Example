{
 "cells": [
  {
   "cell_type": "code",
   "execution_count": 11,
   "id": "dc51038d",
   "metadata": {},
   "outputs": [],
   "source": [
    "import pandas as pd\n",
    "import plotly.express as px\n",
    "import streamlit as st\n",
    "from streamlit import runtime"
   ]
  },
  {
   "cell_type": "code",
   "execution_count": 16,
   "id": "d6d40cc1",
   "metadata": {},
   "outputs": [
    {
     "ename": "AttributeError",
     "evalue": "module 'streamlit.runtime' has no attribute 'exists'",
     "output_type": "error",
     "traceback": [
      "\u001b[1;31m---------------------------------------------------------------------------\u001b[0m",
      "\u001b[1;31mAttributeError\u001b[0m                            Traceback (most recent call last)",
      "Cell \u001b[1;32mIn[16], line 6\u001b[0m\n\u001b[0;32m      3\u001b[0m \u001b[39mimport\u001b[39;00m \u001b[39msys\u001b[39;00m\n\u001b[0;32m      5\u001b[0m \u001b[39mif\u001b[39;00m \u001b[39m__name__\u001b[39m \u001b[39m==\u001b[39m \u001b[39m'\u001b[39m\u001b[39m__main__\u001b[39m\u001b[39m'\u001b[39m:\n\u001b[1;32m----> 6\u001b[0m     \u001b[39mif\u001b[39;00m runtime\u001b[39m.\u001b[39;49mexists():\n\u001b[0;32m      7\u001b[0m         main()\n\u001b[0;32m      8\u001b[0m     \u001b[39melse\u001b[39;00m:\n",
      "\u001b[1;31mAttributeError\u001b[0m: module 'streamlit.runtime' has no attribute 'exists'"
     ]
    }
   ],
   "source": [
    "from streamlit.web import cli as stcli\n",
    "from streamlit import runtime\n",
    "import sys\n",
    "\n",
    "if __name__ == '__main__':\n",
    "    if runtime.exists():\n",
    "        main()\n",
    "    else:\n",
    "        sys.argv = [\"streamlit\", \"run\", sys.argv[0]]\n",
    "        sys.exit(stcli.main())"
   ]
  },
  {
   "cell_type": "code",
   "execution_count": 12,
   "id": "aef7f26b",
   "metadata": {},
   "outputs": [
    {
     "ename": "AttributeError",
     "evalue": "module 'streamlit' has no attribute '_is_running_with_streamlit'",
     "output_type": "error",
     "traceback": [
      "\u001b[1;31m---------------------------------------------------------------------------\u001b[0m",
      "\u001b[1;31mAttributeError\u001b[0m                            Traceback (most recent call last)",
      "Cell \u001b[1;32mIn[12], line 1\u001b[0m\n\u001b[1;32m----> 1\u001b[0m st\u001b[39m.\u001b[39;49mset_page_config(page_title\u001b[39m=\u001b[39;49m\u001b[39m'\u001b[39;49m\u001b[39mPENDATAAN\u001b[39;49m\u001b[39m'\u001b[39;49m,\n\u001b[0;32m      2\u001b[0m                   page_icon\u001b[39m=\u001b[39;49m\u001b[39m'\u001b[39;49m\u001b[39m:bar_chart:\u001b[39;49m\u001b[39m'\u001b[39;49m,\n\u001b[0;32m      3\u001b[0m                   layout\u001b[39m=\u001b[39;49m\u001b[39m'\u001b[39;49m\u001b[39mwide\u001b[39;49m\u001b[39m'\u001b[39;49m\n\u001b[0;32m      4\u001b[0m                   )\n",
      "File \u001b[1;32mc:\\Users\\rekso\\AppData\\Local\\Programs\\Python\\Python39\\lib\\site-packages\\streamlit\\commands\\page_config.py:160\u001b[0m, in \u001b[0;36mset_page_config\u001b[1;34m(page_title, page_icon, layout, initial_sidebar_state, menu_items)\u001b[0m\n\u001b[0;32m    157\u001b[0m     menu_items_proto \u001b[39m=\u001b[39m msg\u001b[39m.\u001b[39mpage_config_changed\u001b[39m.\u001b[39mmenu_items\n\u001b[0;32m    158\u001b[0m     set_menu_items_proto(lowercase_menu_items, menu_items_proto)\n\u001b[1;32m--> 160\u001b[0m ctx \u001b[39m=\u001b[39m get_script_run_ctx()\n\u001b[0;32m    161\u001b[0m \u001b[39mif\u001b[39;00m ctx \u001b[39mis\u001b[39;00m \u001b[39mNone\u001b[39;00m:\n\u001b[0;32m    162\u001b[0m     \u001b[39mreturn\u001b[39;00m\n",
      "File \u001b[1;32mc:\\Users\\rekso\\AppData\\Local\\Programs\\Python\\Python39\\lib\\site-packages\\streamlit\\runtime\\scriptrunner\\script_run_context.py:145\u001b[0m, in \u001b[0;36mget_script_run_ctx\u001b[1;34m()\u001b[0m\n\u001b[0;32m    141\u001b[0m thread \u001b[39m=\u001b[39m threading\u001b[39m.\u001b[39mcurrent_thread()\n\u001b[0;32m    142\u001b[0m ctx: Optional[ScriptRunContext] \u001b[39m=\u001b[39m \u001b[39mgetattr\u001b[39m(\n\u001b[0;32m    143\u001b[0m     thread, SCRIPT_RUN_CONTEXT_ATTR_NAME, \u001b[39mNone\u001b[39;00m\n\u001b[0;32m    144\u001b[0m )\n\u001b[1;32m--> 145\u001b[0m \u001b[39mif\u001b[39;00m ctx \u001b[39mis\u001b[39;00m \u001b[39mNone\u001b[39;00m \u001b[39mand\u001b[39;00m streamlit\u001b[39m.\u001b[39;49m_is_running_with_streamlit:\n\u001b[0;32m    146\u001b[0m     \u001b[39m# Only warn about a missing ScriptRunContext if we were started\u001b[39;00m\n\u001b[0;32m    147\u001b[0m     \u001b[39m# via `streamlit run`. Otherwise, the user is likely running a\u001b[39;00m\n\u001b[0;32m    148\u001b[0m     \u001b[39m# script \"bare\", and doesn't need to be warned about streamlit\u001b[39;00m\n\u001b[0;32m    149\u001b[0m     \u001b[39m# bits that are irrelevant when not connected to a session.\u001b[39;00m\n\u001b[0;32m    150\u001b[0m     LOGGER\u001b[39m.\u001b[39mwarning(\u001b[39m\"\u001b[39m\u001b[39mThread \u001b[39m\u001b[39m'\u001b[39m\u001b[39m%s\u001b[39;00m\u001b[39m'\u001b[39m\u001b[39m: missing ScriptRunContext\u001b[39m\u001b[39m\"\u001b[39m, thread\u001b[39m.\u001b[39mname)\n\u001b[0;32m    152\u001b[0m \u001b[39mreturn\u001b[39;00m ctx\n",
      "\u001b[1;31mAttributeError\u001b[0m: module 'streamlit' has no attribute '_is_running_with_streamlit'"
     ]
    }
   ],
   "source": [
    "st.set_page_config(page_title='PENDATAAN',\n",
    "                  page_icon=':bar_chart:',\n",
    "                  layout='wide'\n",
    "                  )"
   ]
  },
  {
   "cell_type": "code",
   "execution_count": null,
   "id": "68920ec9",
   "metadata": {},
   "outputs": [],
   "source": [
    "df = pd.read_excel(\n",
    "    io = 'D:/Lewa67-UPDATE/Projek 2023/1. PETANI 2023/WIL 1/LAPANGAN/PROGRES PENDATAAN.xlsx',\n",
    "    engine = 'openpyxl',\n",
    "    sheet_name = 'Sheet1')"
   ]
  },
  {
   "cell_type": "code",
   "execution_count": null,
   "id": "1be52167",
   "metadata": {},
   "outputs": [],
   "source": []
  }
 ],
 "metadata": {
  "kernelspec": {
   "display_name": "Python 3 (ipykernel)",
   "language": "python",
   "name": "python3"
  },
  "language_info": {
   "codemirror_mode": {
    "name": "ipython",
    "version": 3
   },
   "file_extension": ".py",
   "mimetype": "text/x-python",
   "name": "python",
   "nbconvert_exporter": "python",
   "pygments_lexer": "ipython3",
   "version": "3.9.7"
  }
 },
 "nbformat": 4,
 "nbformat_minor": 5
}
